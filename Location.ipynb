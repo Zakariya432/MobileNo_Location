{
  "nbformat": 4,
  "nbformat_minor": 0,
  "metadata": {
    "colab": {
      "provenance": []
    },
    "kernelspec": {
      "name": "python3",
      "display_name": "Python 3"
    },
    "language_info": {
      "name": "python"
    }
  },
  "cells": [
    {
      "cell_type": "code",
      "source": [
        "pip install django-phonenumber-field"
      ],
      "metadata": {
        "colab": {
          "base_uri": "https://localhost:8080/"
        },
        "id": "owrlTO_na8Ds",
        "outputId": "11893d80-859a-456f-e799-09d73013c63a"
      },
      "execution_count": 2,
      "outputs": [
        {
          "output_type": "stream",
          "name": "stdout",
          "text": [
            "Collecting django-phonenumber-field\n",
            "  Downloading django_phonenumber_field-7.3.0-py3-none-any.whl (66 kB)\n",
            "\u001b[2K     \u001b[90m━━━━━━━━━━━━━━━━━━━━━━━━━━━━━━━━━━━━━━━━\u001b[0m \u001b[32m66.5/66.5 kB\u001b[0m \u001b[31m2.3 MB/s\u001b[0m eta \u001b[36m0:00:00\u001b[0m\n",
            "\u001b[?25hCollecting Django>=3.2 (from django-phonenumber-field)\n",
            "  Downloading Django-5.0.2-py3-none-any.whl (8.2 MB)\n",
            "\u001b[2K     \u001b[90m━━━━━━━━━━━━━━━━━━━━━━━━━━━━━━━━━━━━━━━━\u001b[0m \u001b[32m8.2/8.2 MB\u001b[0m \u001b[31m67.3 MB/s\u001b[0m eta \u001b[36m0:00:00\u001b[0m\n",
            "\u001b[?25hCollecting asgiref<4,>=3.7.0 (from Django>=3.2->django-phonenumber-field)\n",
            "  Downloading asgiref-3.7.2-py3-none-any.whl (24 kB)\n",
            "Requirement already satisfied: sqlparse>=0.3.1 in /usr/local/lib/python3.10/dist-packages (from Django>=3.2->django-phonenumber-field) (0.4.4)\n",
            "Requirement already satisfied: typing-extensions>=4 in /usr/local/lib/python3.10/dist-packages (from asgiref<4,>=3.7.0->Django>=3.2->django-phonenumber-field) (4.9.0)\n",
            "Installing collected packages: asgiref, Django, django-phonenumber-field\n",
            "Successfully installed Django-5.0.2 asgiref-3.7.2 django-phonenumber-field-7.3.0\n"
          ]
        }
      ]
    },
    {
      "cell_type": "code",
      "source": [
        "pip install django-phonenumbers"
      ],
      "metadata": {
        "colab": {
          "base_uri": "https://localhost:8080/"
        },
        "id": "K04DFskAcJxl",
        "outputId": "3cc52004-7a57-4db8-80ee-959f3ee99bbb"
      },
      "execution_count": 3,
      "outputs": [
        {
          "output_type": "stream",
          "name": "stdout",
          "text": [
            "Collecting django-phonenumbers\n",
            "  Downloading django_phonenumbers-1.0.1-py3-none-any.whl (2.6 MB)\n",
            "\u001b[2K     \u001b[90m━━━━━━━━━━━━━━━━━━━━━━━━━━━━━━━━━━━━━━━━\u001b[0m \u001b[32m2.6/2.6 MB\u001b[0m \u001b[31m30.1 MB/s\u001b[0m eta \u001b[36m0:00:00\u001b[0m\n",
            "\u001b[?25hCollecting phonenumbers (from django-phonenumbers)\n",
            "  Downloading phonenumbers-8.13.30-py2.py3-none-any.whl (2.6 MB)\n",
            "\u001b[2K     \u001b[90m━━━━━━━━━━━━━━━━━━━━━━━━━━━━━━━━━━━━━━━━\u001b[0m \u001b[32m2.6/2.6 MB\u001b[0m \u001b[31m70.3 MB/s\u001b[0m eta \u001b[36m0:00:00\u001b[0m\n",
            "\u001b[?25hInstalling collected packages: phonenumbers, django-phonenumbers\n",
            "Successfully installed django-phonenumbers-1.0.1 phonenumbers-8.13.30\n"
          ]
        }
      ]
    },
    {
      "cell_type": "code",
      "source": [
        "import phonenumbers\n",
        "from phonenumbers import timezone\n",
        "from phonenumbers import geocoder\n",
        "from phonenumbers import carrier\n",
        "\n",
        "number = input(\"Enter the phone number with country code : \")\n",
        "\n",
        "# Parsing String to the Phone number\n",
        "phoneNumber = phonenumbers.parse(number)\n",
        "\n",
        "# printing the timezone using the timezone module\n",
        "timeZone = timezone.time_zones_for_number(phoneNumber)\n",
        "print(\"timezone : \"+str(timeZone))\n",
        "\n",
        "# printing the geolocation of the given number using the geocoder module\n",
        "geolocation = geocoder.description_for_number(phoneNumber,\"en\")\n",
        "print(\"location : \"+geolocation)\n",
        "\n",
        "# printing the service provider name using the carrier module\n",
        "service = carrier.name_for_number(phoneNumber,\"en\")\n",
        "print(\"service provider : \"+service)"
      ],
      "metadata": {
        "colab": {
          "base_uri": "https://localhost:8080/"
        },
        "id": "tEboqNnQb77N",
        "outputId": "b7768afc-90bc-42ee-df47-a7554e4be3ad"
      },
      "execution_count": 6,
      "outputs": [
        {
          "output_type": "stream",
          "name": "stdout",
          "text": [
            "Enter the phone number with country code : +91 9394333228\n",
            "timezone : ('Asia/Calcutta',)\n",
            "location : India\n",
            "service provider : Reliance Jio\n"
          ]
        }
      ]
    },
    {
      "cell_type": "code",
      "source": [],
      "metadata": {
        "id": "kMqO0qDqcPGi"
      },
      "execution_count": null,
      "outputs": []
    }
  ]
}